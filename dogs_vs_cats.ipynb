{
  "nbformat": 4,
  "nbformat_minor": 0,
  "metadata": {
    "colab": {
      "name": "dogs vs cats.ipynb",
      "provenance": [],
      "authorship_tag": "ABX9TyN7vI0Dx5wgidQ9w69FdwQ4",
      "include_colab_link": true
    },
    "kernelspec": {
      "name": "python3",
      "display_name": "Python 3"
    }
  },
  "cells": [
    {
      "cell_type": "markdown",
      "metadata": {
        "id": "view-in-github",
        "colab_type": "text"
      },
      "source": [
        "<a href=\"https://colab.research.google.com/github/Rounak-Das-02/Profession-recognition/blob/master/dogs_vs_cats.ipynb\" target=\"_parent\"><img src=\"https://colab.research.google.com/assets/colab-badge.svg\" alt=\"Open In Colab\"/></a>"
      ]
    },
    {
      "cell_type": "code",
      "metadata": {
        "id": "a1jOyzyoFt-I",
        "colab_type": "code",
        "colab": {}
      },
      "source": [
        "\n",
        "!pip3 install imageai --upgrade"
      ],
      "execution_count": 0,
      "outputs": []
    },
    {
      "cell_type": "code",
      "metadata": {
        "id": "giu_lMrGGJZX",
        "colab_type": "code",
        "outputId": "0f16c0e2-1606-49d7-effc-e9114d3d1b6f",
        "colab": {
          "base_uri": "https://localhost:8080/",
          "height": 187
        }
      },
      "source": [
        "!pip3 install tensorflow==1.15.2\n",
        "!pip3 install keras"
      ],
      "execution_count": 2,
      "outputs": [
        {
          "output_type": "stream",
          "text": [
            "      Successfully uninstalled tensorflow-2.2.0\n",
            "Successfully installed gast-0.2.2 tensorboard-1.15.0 tensorflow-1.15.2 tensorflow-estimator-1.15.1\n",
            "Requirement already satisfied: keras in /usr/local/lib/python3.6/dist-packages (2.3.1)\n",
            "Requirement already satisfied: h5py in /usr/local/lib/python3.6/dist-packages (from keras) (2.10.0)\n",
            "Requirement already satisfied: keras-applications>=1.0.6 in /usr/local/lib/python3.6/dist-packages (from keras) (1.0.8)\n",
            "Requirement already satisfied: keras-preprocessing>=1.0.5 in /usr/local/lib/python3.6/dist-packages (from keras) (1.1.2)\n",
            "Requirement already satisfied: numpy>=1.9.1 in /usr/local/lib/python3.6/dist-packages (from keras) (1.18.4)\n",
            "Requirement already satisfied: pyyaml in /usr/local/lib/python3.6/dist-packages (from keras) (3.13)\n",
            "Requirement already satisfied: scipy>=0.14 in /usr/local/lib/python3.6/dist-packages (from keras) (1.4.1)\n",
            "Requirement already satisfied: six>=1.9.0 in /usr/local/lib/python3.6/dist-packages (from keras) (1.12.0)\n"
          ],
          "name": "stdout"
        }
      ]
    },
    {
      "cell_type": "code",
      "metadata": {
        "id": "tUHu1Qe29HJE",
        "colab_type": "code",
        "colab": {}
      },
      "source": [
        "\n",
        "\n",
        "import os\n",
        "from imageai.Prediction.Custom import ModelTraining\n",
        "\n"
      ],
      "execution_count": 0,
      "outputs": []
    },
    {
      "cell_type": "code",
      "metadata": {
        "id": "aS-r0jO4-FIy",
        "colab_type": "code",
        "colab": {}
      },
      "source": [
        "import os"
      ],
      "execution_count": 0,
      "outputs": []
    },
    {
      "cell_type": "code",
      "metadata": {
        "id": "qij1wVOi8vXL",
        "colab_type": "code",
        "colab": {}
      },
      "source": [
        "FILE_DIR = \"https://github.com/OlafenwaMoses/IdenProf/releases/download/v1.0/idenprof-jpg.zip\"\n",
        "execution_path = os.getcwd()"
      ],
      "execution_count": 0,
      "outputs": []
    },
    {
      "cell_type": "code",
      "metadata": {
        "id": "r4E6nHRO97E7",
        "colab_type": "code",
        "colab": {}
      },
      "source": [
        "def download_idenprof():\n",
        "    if (os.path.exists(FILE_DIR) == False):\n",
        "        print(\"Downloading idenprof-jpg.zip\")\n",
        "        data = requests.get(SOURCE_PATH,\n",
        "                            stream=True)\n",
        "\n",
        "        with open(FILE_DIR, \"wb\") as file:\n",
        "            shutil.copyfileobj(data.raw, file)\n",
        "        del data\n",
        "\n",
        "        extract = ZipFile(FILE_DIR)\n",
        "        extract.extractall(execution_path)\n",
        "        extract.close()\n",
        "\n"
      ],
      "execution_count": 0,
      "outputs": []
    },
    {
      "cell_type": "code",
      "metadata": {
        "id": "_7GeLLms9a-m",
        "colab_type": "code",
        "colab": {}
      },
      "source": [
        "path = os.getcwd()\n",
        "\n",
        "\n",
        "model_trainer = ModelTraining()\n",
        "model_trainer.setModelTypeAsResNet()\n",
        "model_trainer.setDataDirectory(data_directory=r\"E:\\Image recognition\\Profession-recognition\\idenprof\")\n",
        "model_trainer.trainModel(num_objects=2, num_experiments=102, enhance_data=True, show_network_summary=True)"
      ],
      "execution_count": 0,
      "outputs": []
    },
    {
      "cell_type": "code",
      "metadata": {
        "id": "QWWOLZ9vTDbC",
        "colab_type": "code",
        "outputId": "09512281-6041-4a26-b398-230f5c526610",
        "colab": {
          "base_uri": "https://localhost:8080/",
          "height": 68
        }
      },
      "source": [
        ""
      ],
      "execution_count": 11,
      "outputs": [
        {
          "output_type": "stream",
          "text": [
            "Cloning into 'idenprof-jpg.zip'...\n",
            "remote: Not Found\n",
            "fatal: repository 'https://github.com/OlafenwaMoses/IdenProf/releases/download/v1.0/idenprof-jpg.zip/' not found\n"
          ],
          "name": "stdout"
        }
      ]
    },
    {
      "cell_type": "code",
      "metadata": {
        "id": "GXbBulrONmPO",
        "colab_type": "code",
        "colab": {}
      },
      "source": [
        ""
      ],
      "execution_count": 0,
      "outputs": []
    }
  ]
}