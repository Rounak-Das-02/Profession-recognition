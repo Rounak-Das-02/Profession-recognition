{
  "nbformat": 4,
  "nbformat_minor": 0,
  "metadata": {
    "colab": {
      "name": "Untitled0.ipynb",
      "provenance": [],
      "authorship_tag": "ABX9TyPERwgk5q2mOzAHvndMSjxh",
      "include_colab_link": true
    },
    "kernelspec": {
      "name": "python3",
      "display_name": "Python 3"
    }
  },
  "cells": [
    {
      "cell_type": "markdown",
      "metadata": {
        "id": "view-in-github",
        "colab_type": "text"
      },
      "source": [
        "<a href=\"https://colab.research.google.com/github/Rounak-Das-02/Profession-recognition/blob/master/Actual_Model.ipynb\" target=\"_parent\"><img src=\"https://colab.research.google.com/assets/colab-badge.svg\" alt=\"Open In Colab\"/></a>"
      ]
    },
    {
      "cell_type": "code",
      "metadata": {
        "id": "mgM3WX96UikF",
        "colab_type": "code",
        "colab": {}
      },
      "source": [
        "!pip3 install tensorflow==1.15.2"
      ],
      "execution_count": 0,
      "outputs": []
    },
    {
      "cell_type": "code",
      "metadata": {
        "id": "-XMy3PJQUvae",
        "colab_type": "code",
        "colab": {}
      },
      "source": [
        "!pip3 install imageai --upgrade"
      ],
      "execution_count": 0,
      "outputs": []
    },
    {
      "cell_type": "code",
      "metadata": {
        "id": "DmjSC-ngVMf1",
        "colab_type": "code",
        "colab": {}
      },
      "source": [
        "from imageai.Prediction.Custom import CustomImagePrediction"
      ],
      "execution_count": 0,
      "outputs": []
    },
    {
      "cell_type": "code",
      "metadata": {
        "id": "8KzQrHbnVrZR",
        "colab_type": "code",
        "outputId": "83e1d88f-e75c-4da3-ffb3-025c1816b9bb",
        "colab": {
          "base_uri": "https://localhost:8080/",
          "height": 34
        }
      },
      "source": [
        "\n",
        "!git clone https://github.com/Rounak-Das-02/Profession-recognition.git"
      ],
      "execution_count": 39,
      "outputs": [
        {
          "output_type": "stream",
          "text": [
            "fatal: destination path 'Profession-recognition' already exists and is not an empty directory.\n"
          ],
          "name": "stdout"
        }
      ]
    },
    {
      "cell_type": "code",
      "metadata": {
        "id": "HydYdS5frmSX",
        "colab_type": "code",
        "colab": {}
      },
      "source": [
        "import os\n",
        "import matplotlib.pyplot as plt\n",
        "import matplotlib.image as imgplt\n",
        "import numpy as np\n",
        "import glob\n",
        "dir = r\"/content/Profession-recognition/test images\""
      ],
      "execution_count": 0,
      "outputs": []
    },
    {
      "cell_type": "code",
      "metadata": {
        "id": "ixTjvjLmVuhM",
        "colab_type": "code",
        "colab": {}
      },
      "source": [
        "prediction = CustomImagePrediction()\n",
        "prediction.setModelTypeAsResNet()\n",
        "prediction.setModelPath(r\"/content/Profession-recognition/resnet_model_ex-020_acc-0.651714.h5\")\n",
        "prediction.setJsonPath(\"/content/Profession-recognition/model_class.json\")\n",
        "prediction.loadModel(num_objects=10)\n",
        "\n",
        "n=np.array([])\n",
        "\n",
        "for filepath in glob.iglob(r'/content/Profession-recognition/test images*.png', recursive=True):\n",
        "  print(filepath)\n",
        "  #fullpath = str(os.path.join(dir , files))\n",
        "  print (filepath)\n",
        "  #img1 = imgplt.imread(dir)\n",
        "  #n = np.append(n , [img1])\n",
        "  predictions , probabilities = prediction.predictImage(filepath)\n",
        "  for prediction , probability in zip(predictions , probabilities):\n",
        "   print(prediction ,\" \", probability)"
      ],
      "execution_count": 0,
      "outputs": []
    }
  ]
}